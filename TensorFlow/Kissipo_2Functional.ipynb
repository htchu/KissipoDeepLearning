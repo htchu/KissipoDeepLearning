{
  "cells": [
    {
      "cell_type": "markdown",
      "metadata": {
        "id": "4N4NYO1nA9VK"
      },
      "source": [
        "# Kissipo-DNN-Mnist(1)\n",
        "MNIST 手寫數字辨識\n",
        "![Mnist](https://camo.githubusercontent.com/01c057a753e92a9bc70b8c45d62b295431851c09cffadf53106fc0aea7e2843f/687474703a2f2f692e7974696d672e636f6d2f76692f3051493378675875422d512f687164656661756c742e6a7067)"
      ]
    },
    {
      "cell_type": "markdown",
      "metadata": {
        "id": "Lt1M3_-tA9VN"
      },
      "source": [
        "##  載入TF2.0所需的函數庫\n"
      ]
    },
    {
      "cell_type": "code",
      "execution_count": 2,
      "metadata": {
        "colab": {
          "base_uri": "https://localhost:8080/"
        },
        "id": "YLmTr87Umteb",
        "outputId": "1f52fe02-a906-4b65-fe79-8581b6f07f10"
      },
      "outputs": [
        {
          "output_type": "stream",
          "name": "stdout",
          "text": [
            "2.8.0\n"
          ]
        }
      ],
      "source": [
        "import tensorflow as tf\n",
        "print(tf.__version__)"
      ]
    },
    {
      "cell_type": "markdown",
      "metadata": {
        "id": "zmefM3xpA9VP"
      },
      "source": [
        "# Part-1 The training phase"
      ]
    },
    {
      "cell_type": "markdown",
      "metadata": {
        "id": "-6fPNFDVA9VQ"
      },
      "source": [
        "## IPO-M: Building a DL model (Sequential API, Graph mode)\n",
        "$M(x)=\\hat{y}$"
      ]
    },
    {
      "cell_type": "code",
      "execution_count": null,
      "metadata": {
        "id": "2vHhX8o6A9VQ"
      },
      "outputs": [],
      "source": [
        "#Sequential API\n",
        "model = tf.keras.models.Sequential([\n",
        "  tf.keras.layers.Flatten(input_shape=(28, 28)),\n",
        "  tf.keras.layers.Dense(128, activation='relu'),\n",
        "  tf.keras.layers.Dense(10)\n",
        "])"
      ]
    },
    {
      "cell_type": "markdown",
      "source": [
        "## IPO-M: Building a DL model (Functional API, Graph mode)\n",
        "$M(x)=\\hat{y}$"
      ],
      "metadata": {
        "id": "mkJlVXzZHhor"
      }
    },
    {
      "cell_type": "code",
      "source": [
        "inputs = tf.keras.Input(shape=(784,))\n",
        "L2_outputs = tf.keras.layers.Dense(128, activation=\"relu\")(inputs)\n",
        "outputs = tf.keras.layers.Dense(10)(L2_outputs)\n",
        "model = tf.keras.Model(inputs=inputs, outputs=outputs, name=\"mnist_model\")"
      ],
      "metadata": {
        "id": "FW6CjT0qHvZZ"
      },
      "execution_count": 13,
      "outputs": []
    },
    {
      "cell_type": "markdown",
      "metadata": {
        "id": "pSktgUa8A9VR"
      },
      "source": [
        "## IPO-I: input data"
      ]
    },
    {
      "cell_type": "markdown",
      "metadata": {
        "id": "lyRnbzWjA9VR"
      },
      "source": [
        "### 載入MNIST數據集。"
      ]
    },
    {
      "cell_type": "code",
      "execution_count": 14,
      "metadata": {
        "id": "E2nYp5KCnHiH"
      },
      "outputs": [],
      "source": [
        "mnist = tf.keras.datasets.mnist\n",
        "(x_train, y_train), (x_test, y_test) = mnist.load_data()\n",
        "x_train = x_train.reshape(60000, 784).astype(\"float32\") / 255\n",
        "x_test = x_test.reshape(10000, 784).astype(\"float32\") / 255"
      ]
    },
    {
      "cell_type": "code",
      "execution_count": null,
      "metadata": {
        "id": "cFkLElGwA9VS"
      },
      "outputs": [],
      "source": [
        "type(x_train)"
      ]
    },
    {
      "cell_type": "code",
      "execution_count": 5,
      "metadata": {
        "colab": {
          "base_uri": "https://localhost:8080/"
        },
        "id": "TMSXCKX5YbiM",
        "outputId": "c740fd9d-5fb8-427f-fccc-95c3a1772b14"
      },
      "outputs": [
        {
          "output_type": "stream",
          "name": "stdout",
          "text": [
            "(60000, 28, 28)\n",
            "(10000, 28, 28)\n"
          ]
        }
      ],
      "source": [
        "print(x_train.shape)\n",
        "print(x_test.shape)"
      ]
    },
    {
      "cell_type": "markdown",
      "metadata": {
        "id": "dRbZzuAvA9VT"
      },
      "source": [
        "## IPO-O: ontput data"
      ]
    },
    {
      "cell_type": "code",
      "execution_count": 6,
      "metadata": {
        "id": "ic6z_fJUA9VT",
        "outputId": "a72b809c-815c-4d50-cc58-1082e001c5d8",
        "colab": {
          "base_uri": "https://localhost:8080/"
        }
      },
      "outputs": [
        {
          "output_type": "stream",
          "name": "stdout",
          "text": [
            "(60000,)\n",
            "(10000,)\n"
          ]
        }
      ],
      "source": [
        "print(y_train.shape)\n",
        "print(y_test.shape)"
      ]
    },
    {
      "cell_type": "markdown",
      "metadata": {
        "id": "P9iHlXnIA9VU"
      },
      "source": [
        "## IPO-P: Training model"
      ]
    },
    {
      "cell_type": "markdown",
      "metadata": {
        "id": "_lWEneRZA9VU"
      },
      "source": [
        "###  選擇一個優化器和損失函數進行模型建構\n",
        "The from_logits=True attribute inform the loss function that the output values generated by the model are not normalized, a.k.a. logits. In other words, the softmax function has not been applied on them to produce a probability distribution."
      ]
    },
    {
      "cell_type": "code",
      "execution_count": 16,
      "metadata": {
        "id": "TDM5IFvpA9VU"
      },
      "outputs": [],
      "source": [
        "loss_fn = tf.keras.losses.SparseCategoricalCrossentropy(from_logits=True)"
      ]
    },
    {
      "cell_type": "code",
      "execution_count": 17,
      "metadata": {
        "id": "TNhvpCPUA9VV"
      },
      "outputs": [],
      "source": [
        "#Create an optimizer with the desired parameters.\n",
        "opt = tf.keras.optimizers.SGD(learning_rate=0.1)"
      ]
    },
    {
      "cell_type": "markdown",
      "metadata": {
        "id": "P0d0hWLOA9VV"
      },
      "source": [
        "### Compile model"
      ]
    },
    {
      "cell_type": "code",
      "execution_count": 18,
      "metadata": {
        "id": "7RsnYBuanm33"
      },
      "outputs": [],
      "source": [
        "model.compile(optimizer=opt, loss=loss_fn, metrics=['accuracy'])"
      ]
    },
    {
      "cell_type": "markdown",
      "metadata": {
        "id": "ntXI3bVkA9VV"
      },
      "source": [
        "##  進行模型訓練"
      ]
    },
    {
      "cell_type": "code",
      "execution_count": 19,
      "metadata": {
        "colab": {
          "base_uri": "https://localhost:8080/"
        },
        "id": "poefNKBVoDef",
        "outputId": "54e15d48-cb82-4776-8203-ae07ad9f5510"
      },
      "outputs": [
        {
          "output_type": "stream",
          "name": "stdout",
          "text": [
            "Epoch 1/10\n",
            "1875/1875 [==============================] - 6s 2ms/step - loss: 0.2981 - accuracy: 0.9152\n",
            "Epoch 2/10\n",
            "1875/1875 [==============================] - 4s 2ms/step - loss: 0.1443 - accuracy: 0.9578\n",
            "Epoch 3/10\n",
            "1875/1875 [==============================] - 4s 2ms/step - loss: 0.1038 - accuracy: 0.9697\n",
            "Epoch 4/10\n",
            "1875/1875 [==============================] - 4s 2ms/step - loss: 0.0810 - accuracy: 0.9765\n",
            "Epoch 5/10\n",
            "1875/1875 [==============================] - 4s 2ms/step - loss: 0.0665 - accuracy: 0.9803\n",
            "Epoch 6/10\n",
            "1875/1875 [==============================] - 4s 2ms/step - loss: 0.0556 - accuracy: 0.9844\n",
            "Epoch 7/10\n",
            "1875/1875 [==============================] - 4s 2ms/step - loss: 0.0475 - accuracy: 0.9863\n",
            "Epoch 8/10\n",
            "1875/1875 [==============================] - 4s 2ms/step - loss: 0.0408 - accuracy: 0.9885\n",
            "Epoch 9/10\n",
            "1875/1875 [==============================] - 4s 2ms/step - loss: 0.0349 - accuracy: 0.9906\n",
            "Epoch 10/10\n",
            "1875/1875 [==============================] - 4s 2ms/step - loss: 0.0308 - accuracy: 0.9917\n"
          ]
        },
        {
          "output_type": "execute_result",
          "data": {
            "text/plain": [
              "<keras.callbacks.History at 0x7f48000e9150>"
            ]
          },
          "metadata": {},
          "execution_count": 19
        }
      ],
      "source": [
        "model.fit(x_train, y_train, epochs=10)"
      ]
    },
    {
      "cell_type": "markdown",
      "metadata": {
        "id": "CAK-EbhWA9VW"
      },
      "source": [
        "## IPO-P: Evaluating model (模型評估)"
      ]
    },
    {
      "cell_type": "code",
      "execution_count": 20,
      "metadata": {
        "id": "BRAInZ1AobI8",
        "colab": {
          "base_uri": "https://localhost:8080/"
        },
        "outputId": "30eed7cf-6383-4e2c-a917-85e14ec3c3e4"
      },
      "outputs": [
        {
          "output_type": "stream",
          "name": "stdout",
          "text": [
            "313/313 [==============================] - 1s 2ms/step - loss: 0.0700 - accuracy: 0.9780\n"
          ]
        },
        {
          "output_type": "execute_result",
          "data": {
            "text/plain": [
              "[0.06999265402555466, 0.9779999852180481]"
            ]
          },
          "metadata": {},
          "execution_count": 20
        }
      ],
      "source": [
        "model.evaluate(x_test,  y_test)"
      ]
    },
    {
      "cell_type": "code",
      "execution_count": null,
      "metadata": {
        "id": "z0d7S_NSA9VW"
      },
      "outputs": [],
      "source": [
        "import numpy as np\n",
        "from PIL import Image\n",
        "from IPython.display import display"
      ]
    },
    {
      "cell_type": "markdown",
      "metadata": {
        "id": "p7o3aXYkA9VX"
      },
      "source": [
        "# Part-2 The Inference phase"
      ]
    },
    {
      "cell_type": "markdown",
      "metadata": {
        "id": "0G2EIOE4A9VX"
      },
      "source": [
        "## IPO-M: Predicting the digit of an image\n",
        "$M(x)=\\hat{y}$"
      ]
    },
    {
      "cell_type": "markdown",
      "metadata": {
        "id": "3vZI46LZA9VX"
      },
      "source": [
        "## IPO-I2: input a single image"
      ]
    },
    {
      "cell_type": "code",
      "metadata": {
        "id": "yS2pqWVppr4Q"
      },
      "source": [
        "### 第一次"
      ],
      "execution_count": null,
      "outputs": []
    },
    {
      "cell_type": "code",
      "execution_count": null,
      "metadata": {
        "id": "EV4BejAmA9VX"
      },
      "outputs": [],
      "source": [
        "#show image real size\n",
        "img = Image.open('n1.bmp')\n",
        "display(img)\n",
        "img2=img.resize((28, 28))\n",
        "img.close()"
      ]
    },
    {
      "cell_type": "code",
      "execution_count": null,
      "metadata": {
        "id": "-va-gI8UA9VX"
      },
      "outputs": [],
      "source": [
        "#show image at the size of 28x28\n",
        "display(img2)"
      ]
    },
    {
      "cell_type": "markdown",
      "metadata": {
        "id": "aC5VSbIQA9VY"
      },
      "source": [
        "### Covert an image to a numpy.ndarray (1, 28, 28)"
      ]
    },
    {
      "cell_type": "code",
      "execution_count": null,
      "metadata": {
        "id": "gYX0lv5pA9VY"
      },
      "outputs": [],
      "source": [
        "im2arr = np.array(img2)/ 255.0\n",
        "im2arr = im2arr.reshape(1,28,28)"
      ]
    },
    {
      "cell_type": "markdown",
      "metadata": {
        "id": "G1M0vTw-A9VY"
      },
      "source": [
        "## IPO-P2: model.predict"
      ]
    },
    {
      "cell_type": "code",
      "execution_count": null,
      "metadata": {
        "id": "itaR_vKFA9VY"
      },
      "outputs": [],
      "source": [
        "y_pred = model.predict(im2arr)\n",
        "print(y_pred)\n"
      ]
    },
    {
      "cell_type": "code",
      "execution_count": null,
      "metadata": {
        "id": "FHjjnB5YA9VY"
      },
      "outputs": [],
      "source": [
        "y_hat =np.argmax(y_pred)\n",
        "y_hat"
      ]
    }
  ],
  "metadata": {
    "accelerator": "GPU",
    "colab": {
      "name": "Kissipo_2Functional.ipynb",
      "provenance": []
    },
    "kernelspec": {
      "display_name": "Python 3",
      "language": "python",
      "name": "python3"
    },
    "language_info": {
      "codemirror_mode": {
        "name": "ipython",
        "version": 3
      },
      "file_extension": ".py",
      "mimetype": "text/x-python",
      "name": "python",
      "nbconvert_exporter": "python",
      "pygments_lexer": "ipython3",
      "version": "3.7.6"
    }
  },
  "nbformat": 4,
  "nbformat_minor": 0
}