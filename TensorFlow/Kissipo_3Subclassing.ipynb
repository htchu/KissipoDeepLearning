{
  "cells": [
    {
      "cell_type": "markdown",
      "metadata": {
        "id": "4N4NYO1nA9VK"
      },
      "source": [
        "# Kissipo-DNN-Mnist(1)\n",
        "MNIST 手寫數字辨識\n",
        "![Mnist](https://camo.githubusercontent.com/01c057a753e92a9bc70b8c45d62b295431851c09cffadf53106fc0aea7e2843f/687474703a2f2f692e7974696d672e636f6d2f76692f3051493378675875422d512f687164656661756c742e6a7067)"
      ]
    },
    {
      "cell_type": "markdown",
      "metadata": {
        "id": "Lt1M3_-tA9VN"
      },
      "source": [
        "##  載入TF2.0所需的函數庫\n"
      ]
    },
    {
      "cell_type": "code",
      "execution_count": null,
      "metadata": {
        "id": "YLmTr87Umteb"
      },
      "outputs": [],
      "source": [
        "import tensorflow as tf\n",
        "print(tf.__version__)"
      ]
    },
    {
      "cell_type": "markdown",
      "metadata": {
        "id": "zmefM3xpA9VP"
      },
      "source": [
        "# Part-1 The training phase"
      ]
    },
    {
      "cell_type": "markdown",
      "metadata": {
        "id": "-6fPNFDVA9VQ"
      },
      "source": [
        "## IPO-M: Building a DL model (Sequential API, Graph mode)\n",
        "$M(x)=\\hat{y}$"
      ]
    },
    {
      "cell_type": "code",
      "execution_count": null,
      "metadata": {
        "id": "2vHhX8o6A9VQ"
      },
      "outputs": [],
      "source": [
        "#Sequential API\n",
        "model = tf.keras.models.Sequential([\n",
        "  tf.keras.layers.Flatten(input_shape=(28, 28)),\n",
        "  tf.keras.layers.Dense(128, activation='relu'),\n",
        "  tf.keras.layers.Dense(10)\n",
        "])"
      ]
    },
    {
      "cell_type": "code",
      "source": [
        "#Functional API\n",
        "inputs = tf.keras.Input(shape=(784,))\n",
        "L2_outputs = tf.keras.layers.Dense(128, activation=\"relu\")(inputs)\n",
        "outputs = tf.keras.layers.Dense(10)(L2_outputs)\n",
        "model = tf.keras.Model(inputs=inputs, outputs=outputs, name=\"mnist_model\")"
      ],
      "metadata": {
        "id": "FW6CjT0qHvZZ"
      },
      "execution_count": null,
      "outputs": []
    },
    {
      "cell_type": "markdown",
      "source": [
        "## IPO-M: Building a DL model (Subclassing API, Eager mode)\n",
        "$M(x)=\\hat{y}$"
      ],
      "metadata": {
        "id": "mkJlVXzZHhor"
      }
    },
    {
      "cell_type": "code",
      "source": [
        "class MyModel(tf.keras.Model):\n",
        "  def __init__(self):\n",
        "    super(MyModel, self).__init__()\n",
        "    self.flatten = tf.keras.layers.Flatten(input_shape=(28, 28))\n",
        "    self.d1 = tf.keras.layers.Dense(128, activation='relu')\n",
        "    self.d2 = tf.keras.layers.Dense(10)\n",
        "\n",
        "  def call(self, x):\n",
        "    x = self.flatten(x)\n",
        "    x = self.d1(x)\n",
        "    return self.d2(x)\n",
        "\n",
        "# Create an instance of the model\n",
        "model = MyModel()"
      ],
      "metadata": {
        "id": "ESpoZH8MKu6x"
      },
      "execution_count": null,
      "outputs": []
    },
    {
      "cell_type": "markdown",
      "metadata": {
        "id": "pSktgUa8A9VR"
      },
      "source": [
        "## IPO-I: input data"
      ]
    },
    {
      "cell_type": "markdown",
      "metadata": {
        "id": "lyRnbzWjA9VR"
      },
      "source": [
        "### 載入MNIST數據集。"
      ]
    },
    {
      "cell_type": "code",
      "execution_count": null,
      "metadata": {
        "id": "E2nYp5KCnHiH"
      },
      "outputs": [],
      "source": [
        "mnist = tf.keras.datasets.mnist\n",
        "(x_train, y_train), (x_test, y_test) = mnist.load_data()\n",
        "x_train = x_train.reshape(60000, 784).astype(\"float32\") / 255\n",
        "x_test = x_test.reshape(10000, 784).astype(\"float32\") / 255"
      ]
    },
    {
      "cell_type": "code",
      "source": [
        "mnist = tf.keras.datasets.mnist\n",
        "(x_train, y_train), (x_test, y_test) = mnist.load_data()\n",
        "x_train, x_test = x_train / 255.0, x_test / 255.0"
      ],
      "metadata": {
        "id": "rFCsJcO9MAS8"
      },
      "execution_count": null,
      "outputs": []
    },
    {
      "cell_type": "code",
      "execution_count": null,
      "metadata": {
        "id": "cFkLElGwA9VS"
      },
      "outputs": [],
      "source": [
        "type(x_train)"
      ]
    },
    {
      "cell_type": "code",
      "execution_count": null,
      "metadata": {
        "id": "TMSXCKX5YbiM"
      },
      "outputs": [],
      "source": [
        "print(x_train.shape)\n",
        "print(x_test.shape)"
      ]
    },
    {
      "cell_type": "code",
      "source": [
        "train_ds = tf.data.Dataset.from_tensor_slices(\n",
        "    (x_train, y_train)).shuffle(10000).batch(32)\n",
        "\n",
        "test_ds = tf.data.Dataset.from_tensor_slices((x_test, y_test)).batch(32)"
      ],
      "metadata": {
        "id": "DKLHsvcQNVbz"
      },
      "execution_count": 13,
      "outputs": []
    },
    {
      "cell_type": "markdown",
      "metadata": {
        "id": "dRbZzuAvA9VT"
      },
      "source": [
        "## IPO-O: ontput data"
      ]
    },
    {
      "cell_type": "code",
      "execution_count": null,
      "metadata": {
        "id": "ic6z_fJUA9VT"
      },
      "outputs": [],
      "source": [
        "print(y_train.shape)\n",
        "print(y_test.shape)"
      ]
    },
    {
      "cell_type": "markdown",
      "metadata": {
        "id": "P9iHlXnIA9VU"
      },
      "source": [
        "## IPO-P: Training model"
      ]
    },
    {
      "cell_type": "markdown",
      "metadata": {
        "id": "_lWEneRZA9VU"
      },
      "source": [
        "###  選擇一個優化器和損失函數進行模型建構\n",
        "The from_logits=True attribute inform the loss function that the output values generated by the model are not normalized, a.k.a. logits. In other words, the softmax function has not been applied on them to produce a probability distribution."
      ]
    },
    {
      "cell_type": "code",
      "execution_count": null,
      "metadata": {
        "id": "TDM5IFvpA9VU"
      },
      "outputs": [],
      "source": [
        "loss_fn = tf.keras.losses.SparseCategoricalCrossentropy(from_logits=True)"
      ]
    },
    {
      "cell_type": "code",
      "source": [
        "loss_object = tf.keras.losses.SparseCategoricalCrossentropy(from_logits=True)\n",
        "optimizer = tf.keras.optimizers.Adam()"
      ],
      "metadata": {
        "id": "AFdPwOKhM_0k"
      },
      "execution_count": 10,
      "outputs": []
    },
    {
      "cell_type": "code",
      "execution_count": null,
      "metadata": {
        "id": "TNhvpCPUA9VV"
      },
      "outputs": [],
      "source": [
        "#Create an optimizer with the desired parameters.\n",
        "opt = tf.keras.optimizers.SGD(learning_rate=0.1)"
      ]
    },
    {
      "cell_type": "code",
      "source": [
        "train_loss = tf.keras.metrics.Mean(name='train_loss')\n",
        "train_accuracy = tf.keras.metrics.SparseCategoricalAccuracy(name='train_accuracy')\n",
        "\n",
        "test_loss = tf.keras.metrics.Mean(name='test_loss')\n",
        "test_accuracy = tf.keras.metrics.SparseCategoricalAccuracy(name='test_accuracy')\n"
      ],
      "metadata": {
        "id": "hAKvBMbiM7d7"
      },
      "execution_count": 9,
      "outputs": []
    },
    {
      "cell_type": "markdown",
      "source": [
        "## train_step"
      ],
      "metadata": {
        "id": "Lg6SkmGeMn3K"
      }
    },
    {
      "cell_type": "code",
      "source": [
        "@tf.function\n",
        "def train_step(images, labels):\n",
        "  with tf.GradientTape() as tape:\n",
        "    # training=True is only needed if there are layers with different\n",
        "    # behavior during training versus inference (e.g. Dropout).\n",
        "    predictions = model(images, training=True)\n",
        "    loss = loss_object(labels, predictions)\n",
        "  gradients = tape.gradient(loss, model.trainable_variables)\n",
        "  optimizer.apply_gradients(zip(gradients, model.trainable_variables))\n",
        "\n",
        "  train_loss(loss)\n",
        "  train_accuracy(labels, predictions)"
      ],
      "metadata": {
        "id": "s-VThI24Mmvb"
      },
      "execution_count": 11,
      "outputs": []
    },
    {
      "cell_type": "markdown",
      "source": [
        "## test_step"
      ],
      "metadata": {
        "id": "f2MShz9XMudC"
      }
    },
    {
      "cell_type": "code",
      "source": [
        "@tf.function\n",
        "def test_step(images, labels):\n",
        "  # training=False is only needed if there are layers with different\n",
        "  # behavior during training versus inference (e.g. Dropout).\n",
        "  predictions = model(images, training=False)\n",
        "  t_loss = loss_object(labels, predictions)\n",
        "\n",
        "  test_loss(t_loss)\n",
        "  test_accuracy(labels, predictions)"
      ],
      "metadata": {
        "id": "N1IXjRnIMtxi"
      },
      "execution_count": 12,
      "outputs": []
    },
    {
      "cell_type": "markdown",
      "metadata": {
        "id": "P0d0hWLOA9VV"
      },
      "source": [
        "### Compile model(Eager mode 不用編譯compile)"
      ]
    },
    {
      "cell_type": "code",
      "execution_count": null,
      "metadata": {
        "id": "7RsnYBuanm33"
      },
      "outputs": [],
      "source": [
        "#model.compile(optimizer=opt, loss=loss_fn, metrics=['accuracy'])"
      ]
    },
    {
      "cell_type": "markdown",
      "metadata": {
        "id": "ntXI3bVkA9VV"
      },
      "source": [
        "##  進行模型訓練"
      ]
    },
    {
      "cell_type": "code",
      "execution_count": null,
      "metadata": {
        "id": "poefNKBVoDef"
      },
      "outputs": [],
      "source": [
        "#model.fit(x_train, y_train, epochs=10)"
      ]
    },
    {
      "cell_type": "code",
      "source": [
        "EPOCHS = 5\n",
        "for epoch in range(EPOCHS):\n",
        "  # Reset the metrics at the start of the next epoch\n",
        "  train_loss.reset_states()\n",
        "  train_accuracy.reset_states()\n",
        "  test_loss.reset_states()\n",
        "  test_accuracy.reset_states()\n",
        "\n",
        "  for images, labels in train_ds:\n",
        "    train_step(images, labels)\n",
        "\n",
        "  for test_images, test_labels in test_ds:\n",
        "    test_step(test_images, test_labels)\n",
        "\n",
        "  print(\n",
        "    f'Epoch {epoch + 1}, '\n",
        "    f'Loss: {train_loss.result()}, '\n",
        "    f'Accuracy: {train_accuracy.result() * 100}, '\n",
        "    f'Test Loss: {test_loss.result()}, '\n",
        "    f'Test Accuracy: {test_accuracy.result() * 100}'\n",
        "  )"
      ],
      "metadata": {
        "colab": {
          "base_uri": "https://localhost:8080/"
        },
        "id": "5aT1plAANHCj",
        "outputId": "8637c234-9820-4119-cfe9-e9fc23692a42"
      },
      "execution_count": 14,
      "outputs": [
        {
          "output_type": "stream",
          "name": "stdout",
          "text": [
            "Epoch 1, Loss: 0.2597472369670868, Accuracy: 92.47166442871094, Test Loss: 0.13441671431064606, Test Accuracy: 96.10000610351562\n",
            "Epoch 2, Loss: 0.11587721109390259, Accuracy: 96.5250015258789, Test Loss: 0.10684952139854431, Test Accuracy: 96.83999633789062\n",
            "Epoch 3, Loss: 0.08032161742448807, Accuracy: 97.47000122070312, Test Loss: 0.0971354991197586, Test Accuracy: 97.0999984741211\n",
            "Epoch 4, Loss: 0.059014417231082916, Accuracy: 98.21166229248047, Test Loss: 0.08810698240995407, Test Accuracy: 97.3699951171875\n",
            "Epoch 5, Loss: 0.04519445076584816, Accuracy: 98.61166381835938, Test Loss: 0.07974237948656082, Test Accuracy: 97.58999633789062\n"
          ]
        }
      ]
    },
    {
      "cell_type": "markdown",
      "metadata": {
        "id": "CAK-EbhWA9VW"
      },
      "source": [
        "## IPO-P: Evaluating model (模型評估)"
      ]
    },
    {
      "cell_type": "code",
      "execution_count": null,
      "metadata": {
        "id": "BRAInZ1AobI8"
      },
      "outputs": [],
      "source": [
        "model.evaluate(x_test,  y_test)"
      ]
    },
    {
      "cell_type": "code",
      "execution_count": null,
      "metadata": {
        "id": "z0d7S_NSA9VW"
      },
      "outputs": [],
      "source": [
        "import numpy as np\n",
        "from PIL import Image\n",
        "from IPython.display import display"
      ]
    },
    {
      "cell_type": "markdown",
      "metadata": {
        "id": "p7o3aXYkA9VX"
      },
      "source": [
        "# Part-2 The Inference phase"
      ]
    },
    {
      "cell_type": "markdown",
      "metadata": {
        "id": "0G2EIOE4A9VX"
      },
      "source": [
        "## IPO-M: Predicting the digit of an image\n",
        "$M(x)=\\hat{y}$"
      ]
    },
    {
      "cell_type": "markdown",
      "metadata": {
        "id": "3vZI46LZA9VX"
      },
      "source": [
        "## IPO-I2: input a single image"
      ]
    },
    {
      "cell_type": "code",
      "metadata": {
        "id": "yS2pqWVppr4Q"
      },
      "source": [
        "### 第一次"
      ],
      "execution_count": null,
      "outputs": []
    },
    {
      "cell_type": "code",
      "execution_count": null,
      "metadata": {
        "id": "EV4BejAmA9VX"
      },
      "outputs": [],
      "source": [
        "#show image real size\n",
        "img = Image.open('n1.bmp')\n",
        "display(img)\n",
        "img2=img.resize((28, 28))\n",
        "img.close()"
      ]
    },
    {
      "cell_type": "code",
      "execution_count": null,
      "metadata": {
        "id": "-va-gI8UA9VX"
      },
      "outputs": [],
      "source": [
        "#show image at the size of 28x28\n",
        "display(img2)"
      ]
    },
    {
      "cell_type": "markdown",
      "metadata": {
        "id": "aC5VSbIQA9VY"
      },
      "source": [
        "### Covert an image to a numpy.ndarray (1, 28, 28)"
      ]
    },
    {
      "cell_type": "code",
      "execution_count": null,
      "metadata": {
        "id": "gYX0lv5pA9VY"
      },
      "outputs": [],
      "source": [
        "im2arr = np.array(img2)/ 255.0\n",
        "im2arr = im2arr.reshape(1,28,28)"
      ]
    },
    {
      "cell_type": "markdown",
      "metadata": {
        "id": "G1M0vTw-A9VY"
      },
      "source": [
        "## IPO-P2: model.predict"
      ]
    },
    {
      "cell_type": "code",
      "execution_count": null,
      "metadata": {
        "id": "itaR_vKFA9VY"
      },
      "outputs": [],
      "source": [
        "y_pred = model.predict(im2arr)\n",
        "print(y_pred)\n"
      ]
    },
    {
      "cell_type": "code",
      "execution_count": null,
      "metadata": {
        "id": "FHjjnB5YA9VY"
      },
      "outputs": [],
      "source": [
        "y_hat =np.argmax(y_pred)\n",
        "y_hat"
      ]
    }
  ],
  "metadata": {
    "accelerator": "GPU",
    "colab": {
      "name": "Kissipo_3Subclassing.ipynb",
      "provenance": []
    },
    "kernelspec": {
      "display_name": "Python 3",
      "language": "python",
      "name": "python3"
    },
    "language_info": {
      "codemirror_mode": {
        "name": "ipython",
        "version": 3
      },
      "file_extension": ".py",
      "mimetype": "text/x-python",
      "name": "python",
      "nbconvert_exporter": "python",
      "pygments_lexer": "ipython3",
      "version": "3.7.6"
    }
  },
  "nbformat": 4,
  "nbformat_minor": 0
}