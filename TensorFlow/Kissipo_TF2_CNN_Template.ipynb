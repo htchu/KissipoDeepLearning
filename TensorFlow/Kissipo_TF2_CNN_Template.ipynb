{
  "cells": [
    {
      "cell_type": "markdown",
      "metadata": {
        "id": "-blYBqhi8AD8"
      },
      "source": [
        "# Kissipo TensorFlow CNN Template"
      ]
    },
    {
      "cell_type": "markdown",
      "metadata": {
        "id": "kRr1Fc1B8AD-"
      },
      "source": [
        "##  載入TF2.0所需的函數庫\n"
      ]
    },
    {
      "cell_type": "code",
      "execution_count": null,
      "metadata": {
        "id": "YLmTr87Umteb"
      },
      "outputs": [],
      "source": [
        "import tensorflow as tf\n",
        "print(tf.__version__)"
      ]
    },
    {
      "cell_type": "markdown",
      "metadata": {
        "id": "D13MTBee8AD_"
      },
      "source": [
        "# Part-1 The training phase"
      ]
    },
    {
      "cell_type": "markdown",
      "metadata": {
        "id": "5UsYZuTT8AEA"
      },
      "source": [
        "## IPO-M: Building a DL model \n",
        "$M(x)=\\hat{y}$"
      ]
    },
    {
      "cell_type": "code",
      "execution_count": null,
      "metadata": {
        "id": "JGUXU7rg8AEA"
      },
      "outputs": [],
      "source": [
        "#Building a DL model "
      ]
    },
    {
      "cell_type": "markdown",
      "metadata": {
        "id": "QWibrG208AEB"
      },
      "source": [
        "## IPO-I: input data"
      ]
    },
    {
      "cell_type": "code",
      "source": [
        "#input data"
      ],
      "metadata": {
        "id": "OqMQ1O5e8Y_g"
      },
      "execution_count": null,
      "outputs": []
    },
    {
      "cell_type": "markdown",
      "metadata": {
        "id": "-G_Mi35S8AED"
      },
      "source": [
        "## IPO-O: ontput data"
      ]
    },
    {
      "cell_type": "code",
      "execution_count": null,
      "metadata": {
        "id": "n9x-3gYv8AED"
      },
      "outputs": [],
      "source": [
        "#ontput data"
      ]
    },
    {
      "cell_type": "markdown",
      "metadata": {
        "id": "ie2SKvxm8AEE"
      },
      "source": [
        "## IPO-P: Training model"
      ]
    },
    {
      "cell_type": "markdown",
      "metadata": {
        "id": "ZT1kClqH8AEE"
      },
      "source": [
        "###  選擇一個優化器和損失函數進行模型建構\n"
      ]
    },
    {
      "cell_type": "code",
      "execution_count": null,
      "metadata": {
        "id": "42zwvyy_8AEE"
      },
      "outputs": [],
      "source": [
        "#Create a loss function."
      ]
    },
    {
      "cell_type": "code",
      "execution_count": null,
      "metadata": {
        "id": "LqlnSroM8AEE"
      },
      "outputs": [],
      "source": [
        "#Create an optimizer with the desired parameters.\n"
      ]
    },
    {
      "cell_type": "markdown",
      "metadata": {
        "id": "HzJexEGR8AEF"
      },
      "source": [
        "### Compile model"
      ]
    },
    {
      "cell_type": "code",
      "execution_count": null,
      "metadata": {
        "id": "7RsnYBuanm33"
      },
      "outputs": [],
      "source": [
        "#model.compile(optimizer=opt, loss=loss_fn, metrics=['accuracy'])"
      ]
    },
    {
      "cell_type": "markdown",
      "metadata": {
        "id": "42qBl-kz8AEF"
      },
      "source": [
        "##  進行模型訓練"
      ]
    },
    {
      "cell_type": "code",
      "execution_count": null,
      "metadata": {
        "id": "poefNKBVoDef"
      },
      "outputs": [],
      "source": [
        "#model.fit(x_train, y_train, epochs=10)"
      ]
    },
    {
      "cell_type": "markdown",
      "metadata": {
        "id": "kXBoZMMS8AEF"
      },
      "source": [
        "## IPO-P: Evaluating model (模型評估)"
      ]
    },
    {
      "cell_type": "code",
      "execution_count": null,
      "metadata": {
        "id": "BRAInZ1AobI8"
      },
      "outputs": [],
      "source": [
        "#model.evaluate(x_test,  y_test)"
      ]
    },
    {
      "cell_type": "markdown",
      "metadata": {
        "id": "GVzrwGNw8AEG"
      },
      "source": [
        "# Part-2 The Inference phase"
      ]
    },
    {
      "cell_type": "markdown",
      "metadata": {
        "id": "pSuFoVfo8AEG"
      },
      "source": [
        "## IPO-M: Predicting the digit of an image\n",
        "$M(x)=\\hat{y}$"
      ]
    },
    {
      "cell_type": "code",
      "execution_count": null,
      "metadata": {
        "id": "WK_73Sm18AEG"
      },
      "outputs": [],
      "source": [
        "import numpy as np\n",
        "from PIL import Image\n",
        "from IPython.display import display"
      ]
    },
    {
      "cell_type": "markdown",
      "metadata": {
        "id": "OtKgKHZ58AEG"
      },
      "source": [
        "## IPO-I2: input a single image"
      ]
    },
    {
      "cell_type": "code",
      "metadata": {
        "id": "yS2pqWVppr4Q"
      },
      "source": [
        "### 第一次"
      ],
      "execution_count": null,
      "outputs": []
    },
    {
      "cell_type": "code",
      "execution_count": null,
      "metadata": {
        "id": "qKlTzhXV8AEH"
      },
      "outputs": [],
      "source": [
        "#show image real size\n",
        "img = Image.open('n1.bmp')\n",
        "display(img)\n",
        "img2=img.resize((28, 28))\n",
        "img.close()"
      ]
    },
    {
      "cell_type": "code",
      "execution_count": null,
      "metadata": {
        "id": "qb51ioIY8AEH"
      },
      "outputs": [],
      "source": [
        "#show image at the size of 28x28\n",
        "display(img2)"
      ]
    },
    {
      "cell_type": "markdown",
      "metadata": {
        "id": "K_F63oAq8AEH"
      },
      "source": [
        "### Covert an image to a numpy.ndarray (1, 28, 28)"
      ]
    },
    {
      "cell_type": "code",
      "execution_count": null,
      "metadata": {
        "id": "wUBy_0lR8AEH"
      },
      "outputs": [],
      "source": [
        "im2arr = np.array(img2)/ 255.0\n",
        "im2arr = im2arr.reshape(1,28,28)"
      ]
    },
    {
      "cell_type": "markdown",
      "metadata": {
        "id": "6SbUvoW88AEH"
      },
      "source": [
        "## IPO-P2: model.predict"
      ]
    },
    {
      "cell_type": "code",
      "execution_count": null,
      "metadata": {
        "id": "K1tA410L8AEH"
      },
      "outputs": [],
      "source": [
        "y_pred = model.predict(im2arr)\n",
        "print(y_pred)\n"
      ]
    },
    {
      "cell_type": "code",
      "execution_count": null,
      "metadata": {
        "id": "pMmSpFwP8AEH"
      },
      "outputs": [],
      "source": [
        "y_hat =np.argmax(y_pred)\n",
        "y_hat"
      ]
    }
  ],
  "metadata": {
    "accelerator": "GPU",
    "colab": {
      "name": "Kissipo_TF2_CNN_Template.ipynb",
      "provenance": [],
      "collapsed_sections": [],
      "toc_visible": true
    },
    "kernelspec": {
      "display_name": "Python 3",
      "language": "python",
      "name": "python3"
    },
    "language_info": {
      "codemirror_mode": {
        "name": "ipython",
        "version": 3
      },
      "file_extension": ".py",
      "mimetype": "text/x-python",
      "name": "python",
      "nbconvert_exporter": "python",
      "pygments_lexer": "ipython3",
      "version": "3.7.6"
    }
  },
  "nbformat": 4,
  "nbformat_minor": 0
}